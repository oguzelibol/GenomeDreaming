{
 "cells": [
  {
   "cell_type": "code",
   "execution_count": 1,
   "metadata": {
    "collapsed": true
   },
   "outputs": [],
   "source": [
    "import numpy as np\n",
    "from sklearn import preprocessing,cross_validation,svm\n",
    "import pandas as pd"
   ]
  },
  {
   "cell_type": "code",
   "execution_count": 8,
   "metadata": {
    "collapsed": false
   },
   "outputs": [
    {
     "name": "stdout",
     "output_type": "stream",
     "text": [
      "     clump_thickness  uniform_cell_size  uniform_cell_shape  \\\n",
      "0                  5                  1                   1   \n",
      "1                  5                  4                   4   \n",
      "2                  3                  1                   1   \n",
      "3                  6                  8                   8   \n",
      "4                  4                  1                   1   \n",
      "5                  8                 10                  10   \n",
      "6                  1                  1                   1   \n",
      "7                  2                  1                   2   \n",
      "8                  2                  1                   1   \n",
      "9                  4                  2                   1   \n",
      "10                 1                  1                   1   \n",
      "11                 2                  1                   1   \n",
      "12                 5                  3                   3   \n",
      "13                 1                  1                   1   \n",
      "14                 8                  7                   5   \n",
      "15                 7                  4                   6   \n",
      "16                 4                  1                   1   \n",
      "17                 4                  1                   1   \n",
      "18                10                  7                   7   \n",
      "19                 6                  1                   1   \n",
      "20                 7                  3                   2   \n",
      "21                10                  5                   5   \n",
      "22                 3                  1                   1   \n",
      "23                 8                  4                   5   \n",
      "24                 1                  1                   1   \n",
      "25                 5                  2                   3   \n",
      "26                 3                  2                   1   \n",
      "27                 5                  1                   1   \n",
      "28                 2                  1                   1   \n",
      "29                 1                  1                   3   \n",
      "..               ...                ...                 ...   \n",
      "669                5                 10                  10   \n",
      "670                3                 10                   7   \n",
      "671                3                  2                   1   \n",
      "672                2                  1                   1   \n",
      "673                5                  3                   2   \n",
      "674                1                  1                   1   \n",
      "675                4                  1                   4   \n",
      "676                1                  1                   2   \n",
      "677                5                  1                   1   \n",
      "678                1                  1                   1   \n",
      "679                2                  1                   1   \n",
      "680               10                 10                  10   \n",
      "681                5                 10                  10   \n",
      "682                5                  1                   1   \n",
      "683                1                  1                   1   \n",
      "684                1                  1                   1   \n",
      "685                1                  1                   1   \n",
      "686                1                  1                   1   \n",
      "687                3                  1                   1   \n",
      "688                4                  1                   1   \n",
      "689                1                  1                   1   \n",
      "690                1                  1                   1   \n",
      "691                5                 10                  10   \n",
      "692                3                  1                   1   \n",
      "693                3                  1                   1   \n",
      "694                3                  1                   1   \n",
      "695                2                  1                   1   \n",
      "696                5                 10                  10   \n",
      "697                4                  8                   6   \n",
      "698                4                  8                   8   \n",
      "\n",
      "     marginal_adhesion  single_epi_cell_size bare_nuclei  bland_chromation  \\\n",
      "0                    1                     2           1                 3   \n",
      "1                    5                     7          10                 3   \n",
      "2                    1                     2           2                 3   \n",
      "3                    1                     3           4                 3   \n",
      "4                    3                     2           1                 3   \n",
      "5                    8                     7          10                 9   \n",
      "6                    1                     2          10                 3   \n",
      "7                    1                     2           1                 3   \n",
      "8                    1                     2           1                 1   \n",
      "9                    1                     2           1                 2   \n",
      "10                   1                     1           1                 3   \n",
      "11                   1                     2           1                 2   \n",
      "12                   3                     2           3                 4   \n",
      "13                   1                     2           3                 3   \n",
      "14                  10                     7           9                 5   \n",
      "15                   4                     6           1                 4   \n",
      "16                   1                     2           1                 2   \n",
      "17                   1                     2           1                 3   \n",
      "18                   6                     4          10                 4   \n",
      "19                   1                     2           1                 3   \n",
      "20                  10                     5          10                 5   \n",
      "21                   3                     6           7                 7   \n",
      "22                   1                     2           1                 2   \n",
      "23                   1                     2      -99999                 7   \n",
      "24                   1                     2           1                 3   \n",
      "25                   4                     2           7                 3   \n",
      "26                   1                     1           1                 2   \n",
      "27                   1                     2           1                 2   \n",
      "28                   1                     2           1                 2   \n",
      "29                   1                     2           1                 1   \n",
      "..                 ...                   ...         ...               ...   \n",
      "669                  8                     5           5                 7   \n",
      "670                  8                     5           8                 7   \n",
      "671                  2                     2           1                 3   \n",
      "672                  1                     2           1                 3   \n",
      "673                  1                     3           1                 1   \n",
      "674                  1                     2           1                 2   \n",
      "675                  1                     2           1                 1   \n",
      "676                  1                     2           1                 2   \n",
      "677                  1                     2           1                 1   \n",
      "678                  1                     2           1                 1   \n",
      "679                  1                     2           1                 1   \n",
      "680                 10                     5          10                10   \n",
      "681                 10                     4          10                 5   \n",
      "682                  1                     2           1                 3   \n",
      "683                  1                     2           1                 1   \n",
      "684                  1                     2           1                 1   \n",
      "685                  1                     2           1                 1   \n",
      "686                  1                     2           1                 1   \n",
      "687                  1                     2           1                 2   \n",
      "688                  1                     2           1                 1   \n",
      "689                  1                     2           1                 1   \n",
      "690                  3                     2           1                 1   \n",
      "691                  5                     4           5                 4   \n",
      "692                  1                     2           1                 1   \n",
      "693                  1                     2           1                 2   \n",
      "694                  1                     3           2                 1   \n",
      "695                  1                     2           1                 1   \n",
      "696                  3                     7           3                 8   \n",
      "697                  4                     3           4                10   \n",
      "698                  5                     4           5                10   \n",
      "\n",
      "     normal_nucleoli  mitoses  class  \n",
      "0                  1        1      2  \n",
      "1                  2        1      2  \n",
      "2                  1        1      2  \n",
      "3                  7        1      2  \n",
      "4                  1        1      2  \n",
      "5                  7        1      4  \n",
      "6                  1        1      2  \n",
      "7                  1        1      2  \n",
      "8                  1        5      2  \n",
      "9                  1        1      2  \n",
      "10                 1        1      2  \n",
      "11                 1        1      2  \n",
      "12                 4        1      4  \n",
      "13                 1        1      2  \n",
      "14                 5        4      4  \n",
      "15                 3        1      4  \n",
      "16                 1        1      2  \n",
      "17                 1        1      2  \n",
      "18                 1        2      4  \n",
      "19                 1        1      2  \n",
      "20                 4        4      4  \n",
      "21                10        1      4  \n",
      "22                 1        1      2  \n",
      "23                 3        1      4  \n",
      "24                 1        1      2  \n",
      "25                 6        1      4  \n",
      "26                 1        1      2  \n",
      "27                 1        1      2  \n",
      "28                 1        1      2  \n",
      "29                 1        1      2  \n",
      "..               ...      ...    ...  \n",
      "669               10        1      4  \n",
      "670                4        1      4  \n",
      "671                1        1      2  \n",
      "672                1        1      2  \n",
      "673                1        1      2  \n",
      "674                1        1      2  \n",
      "675                1        1      2  \n",
      "676                1        1      2  \n",
      "677                1        1      2  \n",
      "678                1        1      2  \n",
      "679                1        1      2  \n",
      "680               10        7      4  \n",
      "681                6        3      4  \n",
      "682                2        1      2  \n",
      "683                1        1      2  \n",
      "684                1        1      2  \n",
      "685                1        1      2  \n",
      "686                1        1      2  \n",
      "687                3        1      2  \n",
      "688                1        1      2  \n",
      "689                1        8      2  \n",
      "690                1        1      2  \n",
      "691                4        1      4  \n",
      "692                1        1      2  \n",
      "693                1        2      2  \n",
      "694                1        1      2  \n",
      "695                1        1      2  \n",
      "696               10        2      4  \n",
      "697                6        1      4  \n",
      "698                4        1      4  \n",
      "\n",
      "[699 rows x 10 columns]\n"
     ]
    }
   ],
   "source": [
    "df = pd.read_csv('breast-cancer-wisconsin.data.txt')\n",
    "df.replace('?',-99999,inplace=True)\n",
    "df.drop(['id'],1,inplace=True)"
   ]
  },
  {
   "cell_type": "code",
   "execution_count": 4,
   "metadata": {
    "collapsed": false
   },
   "outputs": [],
   "source": [
    "X = np.array(df.drop(['class'],1))\n",
    "y = np.array(df['class'])"
   ]
  },
  {
   "cell_type": "code",
   "execution_count": 5,
   "metadata": {
    "collapsed": false
   },
   "outputs": [],
   "source": [
    "X_train, X_test, y_train, y_test = cross_validation.train_test_split(X, y, test_size=0.2)"
   ]
  },
  {
   "cell_type": "code",
   "execution_count": 6,
   "metadata": {
    "collapsed": false
   },
   "outputs": [
    {
     "name": "stdout",
     "output_type": "stream",
     "text": [
      "0.942857142857\n"
     ]
    }
   ],
   "source": [
    "clf = svm.SVC()\n",
    "clf.fit(X_train,y_train)\n",
    "\n",
    "accuracy = clf.score(X_test,y_test)\n",
    "print(accuracy)"
   ]
  },
  {
   "cell_type": "code",
   "execution_count": 7,
   "metadata": {
    "collapsed": false
   },
   "outputs": [
    {
     "name": "stdout",
     "output_type": "stream",
     "text": [
      "[2 2]\n"
     ]
    }
   ],
   "source": [
    "example_measures = np.array([[4,2,1,1,1,2,3,2,1],[4,2,1,1,1,2,3,2,1]])\n",
    "example_measures = example_measures.reshape(2, -1)\n",
    "prediction = clf.predict(example_measures)\n",
    "print(prediction)"
   ]
  },
  {
   "cell_type": "code",
   "execution_count": null,
   "metadata": {
    "collapsed": false
   },
   "outputs": [],
   "source": [
    "\n"
   ]
  },
  {
   "cell_type": "code",
   "execution_count": null,
   "metadata": {
    "collapsed": false
   },
   "outputs": [],
   "source": [
    "\n"
   ]
  },
  {
   "cell_type": "code",
   "execution_count": null,
   "metadata": {
    "collapsed": false
   },
   "outputs": [],
   "source": []
  },
  {
   "cell_type": "code",
   "execution_count": null,
   "metadata": {
    "collapsed": false
   },
   "outputs": [],
   "source": []
  },
  {
   "cell_type": "code",
   "execution_count": null,
   "metadata": {
    "collapsed": true
   },
   "outputs": [],
   "source": []
  },
  {
   "cell_type": "code",
   "execution_count": null,
   "metadata": {
    "collapsed": true
   },
   "outputs": [],
   "source": []
  }
 ],
 "metadata": {
  "kernelspec": {
   "display_name": "Python [default]",
   "language": "python",
   "name": "python3"
  },
  "language_info": {
   "codemirror_mode": {
    "name": "ipython",
    "version": 3
   },
   "file_extension": ".py",
   "mimetype": "text/x-python",
   "name": "python",
   "nbconvert_exporter": "python",
   "pygments_lexer": "ipython3",
   "version": "3.5.2"
  }
 },
 "nbformat": 4,
 "nbformat_minor": 1
}
